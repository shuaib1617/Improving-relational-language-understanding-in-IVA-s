{
 "cells": [
  {
   "cell_type": "code",
   "execution_count": 1,
   "id": "6ae606fa",
   "metadata": {},
   "outputs": [
    {
     "name": "stdout",
     "output_type": "stream",
     "text": [
      "  Annotator A ID  Annotator B ID  Parition ID  Corpora ID  Sentence ID  \\\n",
      "0              1             7.0          2.0         1.0       6507.0   \n",
      "1              1             7.0          2.0         1.0       6508.0   \n",
      "2              1             7.0          2.0         1.0       6509.0   \n",
      "3              1             7.0          2.0         1.0       6514.0   \n",
      "4              1             7.0          2.0         1.0       6518.0   \n",
      "\n",
      "                                                Text  \\\n",
      "0  What advantage is there in booking directly wi...   \n",
      "1  Hi, Could someone please confirm if CX 884 - H...   \n",
      "2  I will be transiting Dubai soon en route to Oz...   \n",
      "3  Does anyone know where I'd find estimated pric...   \n",
      "4  It's from BA and finds the cheapest BA flight ...   \n",
      "\n",
      "                                    Annotator A Text  \\\n",
      "0  What advantage is there in booking directly wi...   \n",
      "1  [Hi, ]Could someone please confirm if CX 884 -...   \n",
      "2  [I will be transiting Dubai soon en route to O...   \n",
      "3  Does anyone know where I'd find estimated pric...   \n",
      "4  It's from BA and finds the cheapest BA flight ...   \n",
      "\n",
      "                                    Annotator B Text  Length  Error  \\\n",
      "0  What advantage is there in booking directly wi...   242.0  152.0   \n",
      "1  Hi, Could someone please confirm if CX 884 - H...   230.0  134.0   \n",
      "2  I will be transiting Dubai soon en route to Oz...   448.0  175.0   \n",
      "3  Does anyone know where I'd find estimated pric...   274.0   76.0   \n",
      "4  It's from BA and finds the cheapest BA flight ...    89.0    0.0   \n",
      "\n",
      "   Alignment Score  Agreement  \n",
      "0         0.371901        0.0  \n",
      "1         0.417391        0.0  \n",
      "2         0.609375        1.0  \n",
      "3         0.722628        1.0  \n",
      "4         1.000000        1.0  \n"
     ]
    }
   ],
   "source": [
    "import pandas as pd\n",
    "\n",
    "# List of filenames\n",
    "file_names = [\n",
    "    \"1_1_align.csv\", \"1_2_align.csv\", \"1_3_align.csv\", \"1_4_align.csv\",\n",
    "    \"2_1_align.csv\", \"2_2_align.csv\", \"2_3_align.csv\", \"2_4_align.csv\",\n",
    "    \"3_1_align.csv\", \"3_2_align.csv\", \"3_3_align.csv\", \"3_4_align.csv\",\n",
    "    \"4_1_align.csv\", \"4_2_align.csv\", \"4_3_align.csv\", \"4_4_align.csv\",\n",
    "    \"5_1_align.csv\", \"5_2_align.csv\", \"5_3_align.csv\", \"5_4_align.csv\",\n",
    "    \"6_1_align.csv\", \"6_2_align.csv\", \"6_3_align.csv\", \"6_4_align.csv\",\n",
    "    \"7_1_align.csv\", \"7_2_align.csv\", \"7_3_align.csv\", \"7_4_align.csv\",\n",
    "    \"8_1_align.csv\", \"8_2_align.csv\", \"8_3_align.csv\", \"8_4_align.csv\"\n",
    "]\n",
    "\n",
    "# List to store DataFrames\n",
    "data_frames = []\n",
    "\n",
    "# Load CSV files into DataFrames\n",
    "for file_name in file_names:\n",
    "    df = pd.read_csv(file_name)\n",
    "    data_frames.append(df)\n",
    "\n",
    "# Concatenate DataFrames into a single DataFrame\n",
    "combined_df = pd.concat(data_frames, ignore_index=True)\n",
    "\n",
    "# Display the combined DataFrame\n",
    "print(combined_df.head())\n"
   ]
  },
  {
   "cell_type": "code",
   "execution_count": 2,
   "id": "1faa8740",
   "metadata": {},
   "outputs": [
    {
     "name": "stdout",
     "output_type": "stream",
     "text": [
      "Number of rows: 2780\n",
      "Number of columns: 12\n"
     ]
    }
   ],
   "source": [
    "# Assuming your DataFrame is named df\n",
    "num_rows, num_columns = df.shape\n",
    "print(\"Number of rows:\", num_rows)\n",
    "print(\"Number of columns:\", num_columns)\n"
   ]
  },
  {
   "cell_type": "code",
   "execution_count": 3,
   "id": "9a666666",
   "metadata": {},
   "outputs": [
    {
     "name": "stdout",
     "output_type": "stream",
     "text": [
      "  Annotator A ID  Annotator B ID  Parition ID  Corpora ID  Sentence ID  \\\n",
      "0              8             4.0          1.0         4.0       5251.0   \n",
      "1              8             4.0          1.0         4.0       5252.0   \n",
      "2              8             4.0          1.0         4.0       5253.0   \n",
      "3              8             4.0          1.0         4.0       5255.0   \n",
      "4              8             4.0          1.0         4.0       5256.0   \n",
      "5              8             4.0          1.0         4.0       5257.0   \n",
      "6              8             4.0          1.0         4.0       5258.0   \n",
      "7              8             4.0          1.0         4.0       5259.0   \n",
      "8              8             4.0          1.0         4.0       5260.0   \n",
      "9              8             4.0          1.0         4.0       5261.0   \n",
      "\n",
      "                                                Text  \\\n",
      "0  I'm away from home and cannot verify my MAC ad...   \n",
      "1  I changed my user name why can't i move on the...   \n",
      "2  i paid my bill on 10/21 but it does not appear...   \n",
      "3  I am a subscriber to cname-- interntet and pho...   \n",
      "4  i GO TO PUT MY ZIPCODE INTO MY SIGN IN ARE AND...   \n",
      "5  Every username I try to enter does not work. I...   \n",
      "6  I am currently only getting 4.9 mbs download s...   \n",
      "7  how do I know time and channel of show I want ...   \n",
      "8   is there a way to rewire my tv to a diffent room   \n",
      "9  Thanks, by wasting my time I may go to Hulu an...   \n",
      "\n",
      "                                    Annotator A Text  \\\n",
      "0  I'm away from home and cannot verify my MAC ad...   \n",
      "1  I changed my user name why can't i move on the...   \n",
      "2  i paid my bill on 10/21 but it does not appear...   \n",
      "3  [I am a subscriber to cname-- interntet and ph...   \n",
      "4  i GO TO PUT MY ZIPCODE INTO MY SIGN IN ARE AND...   \n",
      "5  Every username I try to enter does not work.[ ...   \n",
      "6  [I am currently only getting 4.9 mbs download ...   \n",
      "7  how do I know time and channel of show I want ...   \n",
      "8   is there a way to rewire my tv to a diffent room   \n",
      "9  [Thanks, ]by wasting my time I may go to Hulu ...   \n",
      "\n",
      "                                    Annotator B Text  Length  Error  \\\n",
      "0  I'm away from home and cannot verify my MAC ad...    88.0    0.0   \n",
      "1  I changed my user name why can't i move on the...   122.0   20.0   \n",
      "2  i paid my bill on 10/21 but it does not appear...   182.0   30.0   \n",
      "3  I am a subscriber to cname-- interntet and pho...   167.0   92.0   \n",
      "4  i GO TO PUT MY ZIPCODE INTO MY SIGN IN [ARE] A...    84.0    3.0   \n",
      "5  Every username I try to enter does not work. I...   126.0   43.0   \n",
      "6  I am currently only getting 4.9 mbs download s...   107.0   51.0   \n",
      "7  how do I know time and channel of show I want ...    71.0    0.0   \n",
      "8   is there a way to rewire my tv to a diffent room    48.0    0.0   \n",
      "9  [Thanks, by wasting my time I may go to Hulu a...    79.0   70.0   \n",
      "\n",
      "   Alignment Score  Agreement  \n",
      "0         1.000000        1.0  \n",
      "1         0.836066        0.0  \n",
      "2         0.835165        0.0  \n",
      "3         0.449102        0.0  \n",
      "4         0.964286        0.0  \n",
      "5         0.658730        1.0  \n",
      "6         0.523364        0.0  \n",
      "7         1.000000        1.0  \n",
      "8         1.000000        1.0  \n",
      "9         0.113924        1.0  \n"
     ]
    }
   ],
   "source": [
    "# Displaying the first 10 rows of each column\n",
    "print(df.head(10))\n"
   ]
  },
  {
   "cell_type": "code",
   "execution_count": null,
   "id": "7d3f8b17",
   "metadata": {},
   "outputs": [],
   "source": []
  }
 ],
 "metadata": {
  "kernelspec": {
   "display_name": "Python (learn-env)",
   "language": "python",
   "name": "learn-env"
  },
  "language_info": {
   "codemirror_mode": {
    "name": "ipython",
    "version": 3
   },
   "file_extension": ".py",
   "mimetype": "text/x-python",
   "name": "python",
   "nbconvert_exporter": "python",
   "pygments_lexer": "ipython3",
   "version": "3.11.4"
  }
 },
 "nbformat": 4,
 "nbformat_minor": 5
}
